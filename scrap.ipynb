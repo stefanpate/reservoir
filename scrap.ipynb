{
 "cells": [
  {
   "cell_type": "code",
   "execution_count": 3,
   "metadata": {},
   "outputs": [],
   "source": [
    "import numpy as np\n",
    "import matplotlib.pyplot as plt\n",
    "import torch\n",
    "from esn import esn"
   ]
  },
  {
   "cell_type": "code",
   "execution_count": null,
   "metadata": {},
   "outputs": [],
   "source": [
    "[np.arange(3), np.arange(2)]"
   ]
  },
  {
   "cell_type": "code",
   "execution_count": 12,
   "metadata": {},
   "outputs": [
    {
     "name": "stdout",
     "output_type": "stream",
     "text": [
      "tensor([[0.8091, 0.5995, 0.1305, 0.2434, 0.3229],\n",
      "        [0.9619, 0.6738, 0.1540, 0.8522, 0.5412],\n",
      "        [0.3832, 0.1980, 0.0747, 0.2780, 0.6413],\n",
      "        [0.3385, 0.2060, 0.0212, 0.9943, 0.6007]])\n",
      "torch.Size([4])\n",
      "torch.Size([4])\n"
     ]
    }
   ],
   "source": [
    "orig = torch.rand(size=(4,5))\n",
    "print(orig)\n",
    "idx = torch.tensor([1,3])\n",
    "out = orig.index_select(1, idx)\n",
    "print(out.mean(dim=1).shape)\n",
    "print(orig[:,0].shape)"
   ]
  },
  {
   "cell_type": "code",
   "execution_count": null,
   "metadata": {},
   "outputs": [],
   "source": [
    "torch.randperm(5, dtype=torch.float).mean()"
   ]
  },
  {
   "cell_type": "code",
   "execution_count": 9,
   "metadata": {},
   "outputs": [
    {
     "data": {
      "text/plain": [
       "2"
      ]
     },
     "execution_count": 9,
     "metadata": {},
     "output_type": "execute_result"
    }
   ],
   "source": [
    "foo = "
   ]
  }
 ],
 "metadata": {
  "interpreter": {
   "hash": "c5da2d5b50c8e9cc23c30f02c842854219a6df9bb95c7e39d9d30b0d41efecfe"
  },
  "kernelspec": {
   "display_name": "Python 3.7.11 ('torch')",
   "language": "python",
   "name": "python3"
  },
  "language_info": {
   "codemirror_mode": {
    "name": "ipython",
    "version": 3
   },
   "file_extension": ".py",
   "mimetype": "text/x-python",
   "name": "python",
   "nbconvert_exporter": "python",
   "pygments_lexer": "ipython3",
   "version": "3.7.11"
  },
  "orig_nbformat": 4
 },
 "nbformat": 4,
 "nbformat_minor": 2
}
